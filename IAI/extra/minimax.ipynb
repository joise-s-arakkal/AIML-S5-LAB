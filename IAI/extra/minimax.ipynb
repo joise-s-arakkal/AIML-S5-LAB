{
 "cells": [
  {
   "cell_type": "markdown",
   "id": "ff776fcd",
   "metadata": {},
   "source": [
    "# Initialisation"
   ]
  },
  {
   "cell_type": "code",
   "execution_count": 5,
   "id": "c9a67df0",
   "metadata": {},
   "outputs": [],
   "source": [
    "graph = {\n",
    "    'a':['b','c'],\n",
    "    'b':['d','e'],\n",
    "    'c':['f','g'],\n",
    "    'd':[],\n",
    "    'e':[],\n",
    "    'f':[],\n",
    "    'g':[]\n",
    "}\n",
    "\n",
    "score = {\n",
    "    'd':10,\n",
    "    'e':20,\n",
    "    'f':5,\n",
    "    'g':15\n",
    "}"
   ]
  },
  {
   "cell_type": "markdown",
   "id": "a3220f5a",
   "metadata": {},
   "source": [
    "# Min Max Algorithm"
   ]
  },
  {
   "cell_type": "code",
   "execution_count": 16,
   "id": "91ac6e3f",
   "metadata": {},
   "outputs": [],
   "source": [
    "import math\n",
    "\n",
    "def minimax(node, depth, maximizing_player):\n",
    "    # Base case: if we reach the maximum depth or a terminal node\n",
    "    if depth == 0 or is_terminal(node):\n",
    "        return evaluate(node)\n",
    "    \n",
    "    if maximizing_player:\n",
    "        max_eval = -math.inf\n",
    "        # Iterate over all possible moves (children of the node)\n",
    "        for child in get_children(node):\n",
    "            eval = minimax(child, depth - 1, False)\n",
    "            max_eval = max(max_eval, eval)\n",
    "        return max_eval\n",
    "    else:\n",
    "        min_eval = math.inf\n",
    "        # Iterate over all possible moves (children of the node)\n",
    "        for child in get_children(node):\n",
    "            eval = minimax(child, depth - 1, True)\n",
    "            min_eval = min(min_eval, eval)\n",
    "        return min_eval\n",
    "\n",
    "# Helper functions (you'll need to implement these based on your specific game):\n",
    "def is_terminal(node):\n",
    "    if graph[node] == []:\n",
    "        return True\n",
    "    else:\n",
    "        return False\n",
    "\n",
    "def evaluate(node):\n",
    "    return score[node]\n",
    "\n",
    "def get_children(node):\n",
    "    return graph[node]"
   ]
  },
  {
   "cell_type": "code",
   "execution_count": 8,
   "id": "81abccae",
   "metadata": {},
   "outputs": [
    {
     "data": {
      "text/plain": [
       "15"
      ]
     },
     "execution_count": 8,
     "metadata": {},
     "output_type": "execute_result"
    }
   ],
   "source": [
    "minimax('a', 10, False)"
   ]
  },
  {
   "cell_type": "markdown",
   "id": "2cd1fd90",
   "metadata": {},
   "source": [
    "# Alpha Beta Pruning"
   ]
  },
  {
   "cell_type": "code",
   "execution_count": 18,
   "id": "85036bd6",
   "metadata": {},
   "outputs": [],
   "source": [
    "import math\n",
    "\n",
    "def minimax_alpha_beta(node, depth, alpha, beta, maximizing_player):\n",
    "    # Base case: if we reach the maximum depth or a terminal node\n",
    "    if depth == 0 or is_terminal(node):\n",
    "        return evaluate(node)\n",
    "    \n",
    "    if maximizing_player:\n",
    "        max_eval = -math.inf\n",
    "        # Iterate over all possible moves (children of the node)\n",
    "        for child in get_children(node):\n",
    "            eval = minimax_alpha_beta(child, depth - 1, alpha, beta, False)\n",
    "            max_eval = max(max_eval, eval)\n",
    "            alpha = max(alpha, eval)  # Update alpha\n",
    "            # Alpha-beta pruning\n",
    "            if beta <= alpha:\n",
    "                break  # Beta cut-off\n",
    "        return max_eval\n",
    "    else:\n",
    "        min_eval = math.inf\n",
    "        # Iterate over all possible moves (children of the node)\n",
    "        for child in get_children(node):\n",
    "            eval = minimax_alpha_beta(child, depth - 1, alpha, beta, True)\n",
    "            min_eval = min(min_eval, eval)\n",
    "            beta = min(beta, eval)  # Update beta\n",
    "            # Alpha-beta pruning\n",
    "            if beta <= alpha:\n",
    "                break  # Alpha cut-off\n",
    "        return min_eval\n",
    "\n",
    "# Helper functions (you'll need to implement these based on your specific game):\n",
    "def is_terminal(node):\n",
    "    if graph[node] == []:\n",
    "        return True\n",
    "    else:\n",
    "        return False\n",
    "\n",
    "def evaluate(node):\n",
    "    return score[node]\n",
    "\n",
    "def get_children(node):\n",
    "    return graph[node]"
   ]
  },
  {
   "cell_type": "code",
   "execution_count": 21,
   "id": "7619e072",
   "metadata": {},
   "outputs": [
    {
     "data": {
      "text/plain": [
       "15"
      ]
     },
     "execution_count": 21,
     "metadata": {},
     "output_type": "execute_result"
    }
   ],
   "source": [
    "minimax('a', 3, -math.inf, math.inf, False)"
   ]
  }
 ],
 "metadata": {
  "kernelspec": {
   "display_name": "Python 3 (ipykernel)",
   "language": "python",
   "name": "python3"
  },
  "language_info": {
   "codemirror_mode": {
    "name": "ipython",
    "version": 3
   },
   "file_extension": ".py",
   "mimetype": "text/x-python",
   "name": "python",
   "nbconvert_exporter": "python",
   "pygments_lexer": "ipython3",
   "version": "3.10.12"
  }
 },
 "nbformat": 4,
 "nbformat_minor": 5
}
